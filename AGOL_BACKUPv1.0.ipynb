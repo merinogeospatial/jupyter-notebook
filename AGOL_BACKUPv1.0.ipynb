{
 "cells": [
  {
   "cell_type": "markdown",
   "metadata": {},
   "source": [
    "# AGOL Backup - Python API \n",
    "\n",
    "3.29.2018 | Needs error handling, needs logging, notifications\n",
    "\n",
    "Richard Merino | richard.merino@raleighnc.gov | merinogeospatial@gmail.com"
   ]
  },
  {
   "cell_type": "code",
   "execution_count": 24,
   "metadata": {},
   "outputs": [
    {
     "name": "stdout",
     "output_type": "stream",
     "text": [
      "Import Successful\n"
     ]
    }
   ],
   "source": [
    "# Import Dependencies\n",
    "import time\n",
    "import arcgis\n",
    "from arcgis.gis import GIS\n",
    "from IPython.display import display\n",
    "from apscheduler.schedulers.blocking import BlockingScheduler\n",
    "print (\"Import Successful\")"
   ]
  },
  {
   "cell_type": "code",
   "execution_count": 2,
   "metadata": {},
   "outputs": [
    {
     "name": "stdout",
     "output_type": "stream",
     "text": [
      "Please sign in to your GIS and paste the code that is obtained below.\n",
      "If a web browser does not automatically open, please navigate to the URL below yourself instead.\n",
      "Opening web browser to navigate to: https://ral.maps.arcgis.com/sharing/rest/oauth2/authorize?client_id=UXzZvlwDeph2dkcN&response_type=code&expiration=-1&redirect_uri=urn%3Aietf%3Awg%3Aoauth%3A2.0%3Aoob\n",
      "Enter code obtained on signing in using SAML: ········\n",
      "Successfully logged in as: richard.merino@raleighnc.gov_ral\n"
     ]
    }
   ],
   "source": [
    "# Authenticate AGOL with OAuth2\n",
    "gis = GIS(\"https://ral.maps.arcgis.com\", client_id='UXzZvlwDeph2dkcN')\n",
    "print(\"Successfully logged in as: \" + gis.properties.user.username)"
   ]
  },
  {
   "cell_type": "code",
   "execution_count": 25,
   "metadata": {},
   "outputs": [],
   "source": [
    "# Global Variables\n",
    "scheduler = BlockingScheduler()\n",
    "time_stamp = (time.strftime(\"%m/%d/%Y\") + \" >>> \" + time.strftime(\"%H:%M:%S\"))"
   ]
  },
  {
   "cell_type": "code",
   "execution_count": null,
   "metadata": {},
   "outputs": [],
   "source": [
    "# Create backup function to schedule\n",
    "def scheduled_backup():\n",
    "    # Grab all hosted feature layers\n",
    "    my_featurelayers = gis.content.search(query=\"owner:richard.merino@raleighnc.gov_ral\", item_type=\"Feature Layer\")\n",
    "\n",
    "    # Convert all hosted feature layers to choice of format, in my case GeoJson\n",
    "    for i in my_featurelayers:\n",
    "        i.export(i.title, 'GeoJson', parameters=None, wait=True)\n",
    "        print (time_stamp + \" | %s has sucessfully exported\" % (i.title))\n",
    "\n",
    "    # Grab all newly created GeoJson\n",
    "    my_geojsons = gis.content.search(query=\"owner:richard.merino@raleighnc.gov_ral\", item_type=\"GEOJson\")\n",
    "    for i in my_geojsons:\n",
    "        i.download(save_path='C:\\\\Users\\\\merinor\\\\Documents\\\\Data')\n",
    "    print (time_stamp + \" | Items saved in specified location\")\n",
    "\n",
    "    delete_items(my_geojsons)\n",
    "    print (time_stamp + \" | Temporary exports have been deleted\")\n",
    "\n",
    "    #!#!#! Generate log locally or place in AGOL, append to log each iteration #!#!#!\n",
    "    \n",
    "    return \"Back up completed on\" + time_stamp\n",
    "    \n",
    "# Starts schedule session\n",
    "scheduler.add_job(scheduled_backup, 'interval', hours=12)\n",
    "scheduler.start()\n",
    "\n"
   ]
  },
  {
   "cell_type": "code",
   "execution_count": null,
   "metadata": {},
   "outputs": [],
   "source": []
  }
 ],
 "metadata": {
  "kernelspec": {
   "display_name": "Python 3",
   "language": "python",
   "name": "python3"
  },
  "language_info": {
   "codemirror_mode": {
    "name": "ipython",
    "version": 3
   },
   "file_extension": ".py",
   "mimetype": "text/x-python",
   "name": "python",
   "nbconvert_exporter": "python",
   "pygments_lexer": "ipython3",
   "version": "3.6.4"
  }
 },
 "nbformat": 4,
 "nbformat_minor": 2
}
