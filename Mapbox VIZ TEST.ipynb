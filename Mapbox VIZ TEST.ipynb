{
 "cells": [
  {
   "cell_type": "code",
   "execution_count": 4,
   "metadata": {},
   "outputs": [
    {
     "name": "stdout",
     "output_type": "stream",
     "text": [
      "success\n"
     ]
    }
   ],
   "source": [
    "import pysal.esda.mapclassify as mapclassify\n",
    "import pandas as pd\n",
    "import os\n",
    "from mapboxgl.utils import *\n",
    "from mapboxgl.viz import *\n",
    "print(\"success\")"
   ]
  },
  {
   "cell_type": "code",
   "execution_count": 6,
   "metadata": {
    "scrolled": true
   },
   "outputs": [
    {
     "data": {
      "text/html": [
       "<div>\n",
       "<style scoped>\n",
       "    .dataframe tbody tr th:only-of-type {\n",
       "        vertical-align: middle;\n",
       "    }\n",
       "\n",
       "    .dataframe tbody tr th {\n",
       "        vertical-align: top;\n",
       "    }\n",
       "\n",
       "    .dataframe thead th {\n",
       "        text-align: right;\n",
       "    }\n",
       "</style>\n",
       "<table border=\"1\" class=\"dataframe\">\n",
       "  <thead>\n",
       "    <tr style=\"text-align: right;\">\n",
       "      <th></th>\n",
       "      <th>FID</th>\n",
       "      <th>ROUTE</th>\n",
       "      <th>UNIQUE_ID</th>\n",
       "      <th>XCO</th>\n",
       "      <th>YCO</th>\n",
       "      <th>ZCO</th>\n",
       "      <th>SURVEY</th>\n",
       "      <th>FACILITYID</th>\n",
       "      <th>WARRANTYDA</th>\n",
       "      <th>SPECIES</th>\n",
       "      <th>...</th>\n",
       "      <th>COMBINED</th>\n",
       "      <th>INV_DATE</th>\n",
       "      <th>INV_TIME</th>\n",
       "      <th>EDITTIME</th>\n",
       "      <th>SOURCE</th>\n",
       "      <th>STATUS</th>\n",
       "      <th>F2013__Col</th>\n",
       "      <th>ID_STRING</th>\n",
       "      <th>x</th>\n",
       "      <th>y</th>\n",
       "    </tr>\n",
       "  </thead>\n",
       "  <tbody>\n",
       "    <tr>\n",
       "      <th>0</th>\n",
       "      <td>1</td>\n",
       "      <td>S HARRINGTON ST 2</td>\n",
       "      <td>3181</td>\n",
       "      <td>2105309.409</td>\n",
       "      <td>738724.880</td>\n",
       "      <td>332.727</td>\n",
       "      <td>06102103.001</td>\n",
       "      <td>3190</td>\n",
       "      <td>NaN</td>\n",
       "      <td></td>\n",
       "      <td>...</td>\n",
       "      <td></td>\n",
       "      <td>NaN</td>\n",
       "      <td></td>\n",
       "      <td>NaN</td>\n",
       "      <td>TransMap</td>\n",
       "      <td>Inactive</td>\n",
       "      <td>0</td>\n",
       "      <td>TEST</td>\n",
       "      <td>-78.645</td>\n",
       "      <td>35.779</td>\n",
       "    </tr>\n",
       "    <tr>\n",
       "      <th>1</th>\n",
       "      <td>2</td>\n",
       "      <td>S HARRINGTON ST 2</td>\n",
       "      <td>3182</td>\n",
       "      <td>2105308.723</td>\n",
       "      <td>738777.923</td>\n",
       "      <td>334.628</td>\n",
       "      <td>06102103.001</td>\n",
       "      <td>3191</td>\n",
       "      <td>NaN</td>\n",
       "      <td></td>\n",
       "      <td>...</td>\n",
       "      <td></td>\n",
       "      <td>NaN</td>\n",
       "      <td></td>\n",
       "      <td>NaN</td>\n",
       "      <td>TransMap</td>\n",
       "      <td>Inactive</td>\n",
       "      <td>0</td>\n",
       "      <td>NaN</td>\n",
       "      <td>-78.645</td>\n",
       "      <td>35.779</td>\n",
       "    </tr>\n",
       "    <tr>\n",
       "      <th>2</th>\n",
       "      <td>3</td>\n",
       "      <td>S HARRINGTON ST 2</td>\n",
       "      <td>3183</td>\n",
       "      <td>2105300.353</td>\n",
       "      <td>738853.991</td>\n",
       "      <td>336.694</td>\n",
       "      <td>06102103.001</td>\n",
       "      <td>3192</td>\n",
       "      <td>NaN</td>\n",
       "      <td></td>\n",
       "      <td>...</td>\n",
       "      <td></td>\n",
       "      <td>NaN</td>\n",
       "      <td></td>\n",
       "      <td>NaN</td>\n",
       "      <td>TransMap</td>\n",
       "      <td>Inactive</td>\n",
       "      <td>0</td>\n",
       "      <td>NaN</td>\n",
       "      <td>-78.645</td>\n",
       "      <td>35.780</td>\n",
       "    </tr>\n",
       "    <tr>\n",
       "      <th>3</th>\n",
       "      <td>4</td>\n",
       "      <td>S HARRINGTON ST 2</td>\n",
       "      <td>3040</td>\n",
       "      <td>2105269.743</td>\n",
       "      <td>738010.483</td>\n",
       "      <td>315.746</td>\n",
       "      <td>06102103.001</td>\n",
       "      <td>3049</td>\n",
       "      <td>NaN</td>\n",
       "      <td></td>\n",
       "      <td>...</td>\n",
       "      <td></td>\n",
       "      <td>NaN</td>\n",
       "      <td></td>\n",
       "      <td>NaN</td>\n",
       "      <td>TransMap</td>\n",
       "      <td>Inactive</td>\n",
       "      <td>0</td>\n",
       "      <td>NaN</td>\n",
       "      <td>-78.645</td>\n",
       "      <td>35.777</td>\n",
       "    </tr>\n",
       "    <tr>\n",
       "      <th>4</th>\n",
       "      <td>5</td>\n",
       "      <td>S HARRINGTON ST 2</td>\n",
       "      <td>3041</td>\n",
       "      <td>2105270.945</td>\n",
       "      <td>738025.308</td>\n",
       "      <td>316.533</td>\n",
       "      <td>06102103.001</td>\n",
       "      <td>3050</td>\n",
       "      <td>NaN</td>\n",
       "      <td></td>\n",
       "      <td>...</td>\n",
       "      <td></td>\n",
       "      <td>NaN</td>\n",
       "      <td></td>\n",
       "      <td>NaN</td>\n",
       "      <td>TransMap</td>\n",
       "      <td>Inactive</td>\n",
       "      <td>0</td>\n",
       "      <td>NaN</td>\n",
       "      <td>-78.645</td>\n",
       "      <td>35.777</td>\n",
       "    </tr>\n",
       "  </tbody>\n",
       "</table>\n",
       "<p>5 rows × 31 columns</p>\n",
       "</div>"
      ],
      "text/plain": [
       "   FID              ROUTE  UNIQUE_ID          XCO         YCO      ZCO  \\\n",
       "0    1  S HARRINGTON ST 2       3181  2105309.409  738724.880  332.727   \n",
       "1    2  S HARRINGTON ST 2       3182  2105308.723  738777.923  334.628   \n",
       "2    3  S HARRINGTON ST 2       3183  2105300.353  738853.991  336.694   \n",
       "3    4  S HARRINGTON ST 2       3040  2105269.743  738010.483  315.746   \n",
       "4    5  S HARRINGTON ST 2       3041  2105270.945  738025.308  316.533   \n",
       "\n",
       "         SURVEY  FACILITYID  WARRANTYDA SPECIES   ...   COMBINED  INV_DATE  \\\n",
       "0  06102103.001        3190         NaN           ...                  NaN   \n",
       "1  06102103.001        3191         NaN           ...                  NaN   \n",
       "2  06102103.001        3192         NaN           ...                  NaN   \n",
       "3  06102103.001        3049         NaN           ...                  NaN   \n",
       "4  06102103.001        3050         NaN           ...                  NaN   \n",
       "\n",
       "  INV_TIME EDITTIME    SOURCE    STATUS F2013__Col ID_STRING       x       y  \n",
       "0               NaN  TransMap  Inactive          0      TEST -78.645  35.779  \n",
       "1               NaN  TransMap  Inactive          0       NaN -78.645  35.779  \n",
       "2               NaN  TransMap  Inactive          0       NaN -78.645  35.780  \n",
       "3               NaN  TransMap  Inactive          0       NaN -78.645  35.777  \n",
       "4               NaN  TransMap  Inactive          0       NaN -78.645  35.777  \n",
       "\n",
       "[5 rows x 31 columns]"
      ]
     },
     "execution_count": 6,
     "metadata": {},
     "output_type": "execute_result"
    }
   ],
   "source": [
    "df = pd.read_csv('C:\\\\Users\\\\merinor\\\\Documents\\\\Data\\\\testcsv.csv').round(3)\n",
    "df.head(5)"
   ]
  },
  {
   "cell_type": "code",
   "execution_count": 8,
   "metadata": {},
   "outputs": [
    {
     "name": "stdout",
     "output_type": "stream",
     "text": [
      "success\n"
     ]
    }
   ],
   "source": [
    "# Must be a public token, starting with `pk`\n",
    "token = os.getenv('pk.eyJ1IjoibWVyaW5vci1yYWwiLCJhIjoiY2pmaTlnM2U0MDh2NzJ6cXEydzAzdm5kYyJ9.YQiL_JYxG36_7G8A9ZL_RA')\n",
    "print (\"success\")"
   ]
  },
  {
   "cell_type": "code",
   "execution_count": 9,
   "metadata": {},
   "outputs": [
    {
     "data": {
      "text/plain": [
       "{'feature_count': 610, 'filename': 'points1.geojson', 'type': 'file'}"
      ]
     },
     "execution_count": 9,
     "metadata": {},
     "output_type": "execute_result"
    }
   ],
   "source": [
    "# Create a geojson file export from the current dataframe\n",
    "df_to_geojson(df, filename='points1.geojson',\n",
    "              properties=['FID', 'ROUTE', 'STATUS'], \n",
    "                     lat='y', lon='x', precision=3)"
   ]
  },
  {
   "cell_type": "code",
   "execution_count": null,
   "metadata": {},
   "outputs": [],
   "source": []
  }
 ],
 "metadata": {
  "kernelspec": {
   "display_name": "Python 3",
   "language": "python",
   "name": "python3"
  },
  "language_info": {
   "codemirror_mode": {
    "name": "ipython",
    "version": 3
   },
   "file_extension": ".py",
   "mimetype": "text/x-python",
   "name": "python",
   "nbconvert_exporter": "python",
   "pygments_lexer": "ipython3",
   "version": "3.6.4"
  }
 },
 "nbformat": 4,
 "nbformat_minor": 2
}
