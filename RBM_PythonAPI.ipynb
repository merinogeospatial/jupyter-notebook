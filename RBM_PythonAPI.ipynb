{
 "cells": [
  {
   "cell_type": "markdown",
   "metadata": {},
   "source": [
    "# Important Code Blocks for working with the Python API\n",
    "\n",
    "Richard Merino | merinogeospatial@gmail.com | richard.merino@raleighnc.gov\n"
   ]
  },
  {
   "cell_type": "markdown",
   "metadata": {},
   "source": [
    "Content Manager reference material - https://esri.github.io/arcgis-python-api/apidoc/html/arcgis.gis.toc.html#contentmanager\n",
    "\n",
    "The blocks below can be use as building blocks to create scripts for creating automated processes. This notebook contains necessary blocks for extracting and backing up your feature layers. Can be written in time loop after authentication for persistently running script. Note that federated logins must use this authentication framework for now, username and password authentication not working for our type of login\n",
    "\n",
    "For updating feature layers, refer to - https://developers.arcgis.com/python/guide/editing-features/"
   ]
  },
  {
   "cell_type": "code",
   "execution_count": 3,
   "metadata": {},
   "outputs": [
    {
     "name": "stdout",
     "output_type": "stream",
     "text": [
      "Import Successful\n"
     ]
    }
   ],
   "source": [
    "# IMPORT DEPENDENCIES\n",
    "import arcgis\n",
    "from arcgis.gis import GIS\n",
    "from IPython.display import display\n",
    "print (\"Import Successful\")"
   ]
  },
  {
   "cell_type": "code",
   "execution_count": 4,
   "metadata": {
    "scrolled": true
   },
   "outputs": [
    {
     "name": "stdout",
     "output_type": "stream",
     "text": [
      "Please sign in to your GIS and paste the code that is obtained below.\n",
      "If a web browser does not automatically open, please navigate to the URL below yourself instead.\n",
      "Opening web browser to navigate to: https://ral.maps.arcgis.com/sharing/rest/oauth2/authorize?client_id=UXzZvlwDeph2dkcN&response_type=code&expiration=-1&redirect_uri=urn%3Aietf%3Awg%3Aoauth%3A2.0%3Aoob\n",
      "Enter code obtained on signing in using SAML: ········\n",
      "Successfully logged in as: richard.merino@raleighnc.gov_ral\n"
     ]
    }
   ],
   "source": [
    "# AUTHENTICATE WITH OAUTH2\n",
    "gis = GIS(\"https://ral.maps.arcgis.com\", client_id='UXzZvlwDeph2dkcN')\n",
    "print(\"Successfully logged in as: \" + gis.properties.user.username)"
   ]
  },
  {
   "cell_type": "code",
   "execution_count": 5,
   "metadata": {},
   "outputs": [
    {
     "data": {
      "text/plain": [
       "arcgis.gis.ContentManager"
      ]
     },
     "execution_count": 5,
     "metadata": {},
     "output_type": "execute_result"
    }
   ],
   "source": [
    "type(gis.content) # check content manager, unnecessary"
   ]
  },
  {
   "cell_type": "code",
   "execution_count": 6,
   "metadata": {},
   "outputs": [
    {
     "data": {
      "text/plain": [
       "[<Item title:\"Public Art Installations\" type:Feature Layer Collection owner:richard.merino@raleighnc.gov_ral>,\n",
       " <Item title:\"Tree_subset(TEST)\" type:Feature Layer Collection owner:richard.merino@raleighnc.gov_ral>]"
      ]
     },
     "execution_count": 6,
     "metadata": {},
     "output_type": "execute_result"
    }
   ],
   "source": [
    "# CREATE CONTENT QUERY, RETURNS LIST OF OBJECTS\n",
    "search_result = gis.content.search(query=\"owner:richard.merino@raleighnc.gov_ral\", item_type=\"Feature Layer\")\n",
    "search_result"
   ]
  },
  {
   "cell_type": "code",
   "execution_count": 7,
   "metadata": {
    "scrolled": true
   },
   "outputs": [
    {
     "data": {
      "text/html": [
       "<div class=\"item_container\" style=\"height: auto; overflow: hidden; border: 1px solid #cfcfcf; border-radius: 2px; background: #f6fafa; line-height: 1.21429em; padding: 10px;\">\n",
       "                    <div class=\"item_left\" style=\"width: 210px; float: left;\">\n",
       "                       <a href='https://ral.maps.arcgis.com/home/item.html?id=d5b73a2b645e47a9910273f2ae2932dc' target='_blank'>\n",
       "                        <img src='data:image/png;base64,R0lGODlhBQAFAID/AMDAwAAAACH5BAEAAAAALAAAAAAFAAUAQAIEhI+pWAA7' width='200' height='133' class=\"itemThumbnail\">\n",
       "                       </a>\n",
       "                    </div>\n",
       "\n",
       "                    <div class=\"item_right\"     style=\"float: none; width: auto; overflow: hidden;\">\n",
       "                        <a href='https://ral.maps.arcgis.com/home/item.html?id=d5b73a2b645e47a9910273f2ae2932dc' target='_blank'><b>Public Art Installations</b>\n",
       "                        </a>\n",
       "                        <br/><img src='https://ral.maps.arcgis.com/home/js/jsapi/esri/css/images/item_type_icons/featureshosted16.png' style=\"vertical-align:middle;\">Feature Layer Collection by richard.merino@raleighnc.gov_ral\n",
       "                        <br/>Last Modified: March 28, 2018\n",
       "                        <br/>0 comments, 11 views\n",
       "                    </div>\n",
       "                </div>\n",
       "                "
      ],
      "text/plain": [
       "<Item title:\"Public Art Installations\" type:Feature Layer Collection owner:richard.merino@raleighnc.gov_ral>"
      ]
     },
     "metadata": {},
     "output_type": "display_data"
    },
    {
     "data": {
      "text/html": [
       "<div class=\"item_container\" style=\"height: auto; overflow: hidden; border: 1px solid #cfcfcf; border-radius: 2px; background: #f6fafa; line-height: 1.21429em; padding: 10px;\">\n",
       "                    <div class=\"item_left\" style=\"width: 210px; float: left;\">\n",
       "                       <a href='https://ral.maps.arcgis.com/home/item.html?id=207450656b6641618994413617fdcbb5' target='_blank'>\n",
       "                        <img src='data:image/png;base64,iVBORw0KGgoAAAANSUhEUgAAAMgAAACFCAIAAACR/CB7AAAACXBIWXMAAA7EAAAOxAGVKw4bAAABbElEQVR4nO3SwQ3AIBDAsNL9dz6WIEJC9gR5ZM3MB6f9twN4k7FIGIuEsUgYi4SxSBiLhLFIGIuEsUgYi4SxSBiLhLFIGIuEsUgYi4SxSBiLhLFIGIuEsUgYi4SxSBiLhLFIGIuEsUgYi4SxSBiLhLFIGIuEsUgYi4SxSBiLhLFIGIuEsUgYi4SxSBiLhLFIGIuEsUgYi4SxSBiLhLFIGIuEsUgYi4SxSBiLhLFIGIuEsUgYi4SxSBiLhLFIGIuEsUgYi4SxSBiLhLFIGIuEsUgYi4SxSBiLhLFIGIuEsUgYi4SxSBiLhLFIGIuEsUgYi4SxSBiLhLFIGIuEsUgYi4SxSBiLhLFIGIuEsUgYi4SxSBiLhLFIGIuEsUgYi4SxSBiLhLFIGIuEsUgYi4SxSBiLhLFIGIuEsUgYi4SxSBiLhLFIGIuEsUgYi4SxSBiLhLFIGIuEsUgYi4SxSBiLhLFIGIuEsUgYi4SxSGy4dQQHgizXSQAAAABJRU5ErkJggg==' width='200' height='133' class=\"itemThumbnail\">\n",
       "                       </a>\n",
       "                    </div>\n",
       "\n",
       "                    <div class=\"item_right\"     style=\"float: none; width: auto; overflow: hidden;\">\n",
       "                        <a href='https://ral.maps.arcgis.com/home/item.html?id=207450656b6641618994413617fdcbb5' target='_blank'><b>Tree_subset(TEST)</b>\n",
       "                        </a>\n",
       "                        <br/><img src='https://ral.maps.arcgis.com/home/js/jsapi/esri/css/images/item_type_icons/featureshosted16.png' style=\"vertical-align:middle;\">Feature Layer Collection by richard.merino@raleighnc.gov_ral\n",
       "                        <br/>Last Modified: March 22, 2018\n",
       "                        <br/>0 comments, 11 views\n",
       "                    </div>\n",
       "                </div>\n",
       "                "
      ],
      "text/plain": [
       "<Item title:\"Tree_subset(TEST)\" type:Feature Layer Collection owner:richard.merino@raleighnc.gov_ral>"
      ]
     },
     "metadata": {},
     "output_type": "display_data"
    }
   ],
   "source": [
    "# DISPLAYS SEARCH RESULTS \n",
    "from IPython.display import display\n",
    "for item in search_result:\n",
    "    display(item)"
   ]
  },
  {
   "cell_type": "markdown",
   "metadata": {},
   "source": [
    "# Item objects are to be called by Item ID"
   ]
  },
  {
   "cell_type": "code",
   "execution_count": 8,
   "metadata": {
    "scrolled": true
   },
   "outputs": [
    {
     "name": "stdout",
     "output_type": "stream",
     "text": [
      "207450656b6641618994413617fdcbb5\n"
     ]
    }
   ],
   "source": [
    "# GET ITEM ID\n",
    "tree_data = search_result[1]\n",
    "tree_data_id = tree_data.id\n",
    "print(tree_data_id)"
   ]
  },
  {
   "cell_type": "code",
   "execution_count": 20,
   "metadata": {},
   "outputs": [
    {
     "name": "stdout",
     "output_type": "stream",
     "text": [
      "Items saved in specified location\n"
     ]
    }
   ],
   "source": [
    "\"\"\"# PUTTING ALL IDs FROM QUERY INTO LIST\n",
    "item_id_list = []\n",
    "for i in search_result:\n",
    "    item_id_list.append(gis.content.get(str(i.id)))\n",
    "print(item_id_list)\"\"\"\n",
    "\n",
    "# GETTING ID IS UNNCESSARY - PULL STRAIGHT FROM OBJECT LIST\n",
    "for i in search_result:\n",
    "    i.download(save_path='C:\\\\Users\\\\merinor\\\\Documents\\\\Data')\n",
    "print (\"Items saved in specified location\")\n",
    "    "
   ]
  },
  {
   "cell_type": "code",
   "execution_count": 7,
   "metadata": {
    "scrolled": false
   },
   "outputs": [
    {
     "data": {
      "text/html": [
       "<div class=\"item_container\" style=\"height: auto; overflow: hidden; border: 1px solid #cfcfcf; border-radius: 2px; background: #f6fafa; line-height: 1.21429em; padding: 10px;\">\n",
       "                    <div class=\"item_left\" style=\"width: 210px; float: left;\">\n",
       "                       <a href='https://ral.maps.arcgis.com/home/item.html?id=207450656b6641618994413617fdcbb5' target='_blank'>\n",
       "                        <img src='data:image/png;base64,iVBORw0KGgoAAAANSUhEUgAAAMgAAACFCAIAAACR/CB7AAAACXBIWXMAAA7EAAAOxAGVKw4bAAABbElEQVR4nO3SwQ3AIBDAsNL9dz6WIEJC9gR5ZM3MB6f9twN4k7FIGIuEsUgYi4SxSBiLhLFIGIuEsUgYi4SxSBiLhLFIGIuEsUgYi4SxSBiLhLFIGIuEsUgYi4SxSBiLhLFIGIuEsUgYi4SxSBiLhLFIGIuEsUgYi4SxSBiLhLFIGIuEsUgYi4SxSBiLhLFIGIuEsUgYi4SxSBiLhLFIGIuEsUgYi4SxSBiLhLFIGIuEsUgYi4SxSBiLhLFIGIuEsUgYi4SxSBiLhLFIGIuEsUgYi4SxSBiLhLFIGIuEsUgYi4SxSBiLhLFIGIuEsUgYi4SxSBiLhLFIGIuEsUgYi4SxSBiLhLFIGIuEsUgYi4SxSBiLhLFIGIuEsUgYi4SxSBiLhLFIGIuEsUgYi4SxSBiLhLFIGIuEsUgYi4SxSBiLhLFIGIuEsUgYi4SxSBiLhLFIGIuEsUgYi4SxSBiLhLFIGIuEsUgYi4SxSGy4dQQHgizXSQAAAABJRU5ErkJggg==' width='200' height='133' class=\"itemThumbnail\">\n",
       "                       </a>\n",
       "                    </div>\n",
       "\n",
       "                    <div class=\"item_right\"     style=\"float: none; width: auto; overflow: hidden;\">\n",
       "                        <a href='https://ral.maps.arcgis.com/home/item.html?id=207450656b6641618994413617fdcbb5' target='_blank'><b>Tree_subset(TEST)</b>\n",
       "                        </a>\n",
       "                        <br/><img src='https://ral.maps.arcgis.com/home/js/jsapi/esri/css/images/item_type_icons/featureshosted16.png' style=\"vertical-align:middle;\">Feature Layer Collection by richard.merino@raleighnc.gov_ral\n",
       "                        <br/>Last Modified: March 22, 2018\n",
       "                        <br/>0 comments, 27 views\n",
       "                    </div>\n",
       "                </div>\n",
       "                "
      ],
      "text/plain": [
       "<Item title:\"Tree_subset(TEST)\" type:Feature Layer Collection owner:richard.merino@raleighnc.gov_ral>"
      ]
     },
     "execution_count": 7,
     "metadata": {},
     "output_type": "execute_result"
    }
   ],
   "source": [
    "# SET VARIABLE TO ACCESS SPECIFIED ITEM\n",
    "get_item = gis.content.get('207450656b6641618994413617fdcbb5')\n",
    "get_item"
   ]
  },
  {
   "cell_type": "code",
   "execution_count": 8,
   "metadata": {
    "scrolled": false
   },
   "outputs": [
    {
     "data": {
      "text/plain": [
       "{'layers': [{'id': 0,\n",
       "   'layerDefinition': {'defaultVisibility': True},\n",
       "   'popupInfo': {'description': None,\n",
       "    'fieldInfos': [{'fieldName': 'FID',\n",
       "      'isEditable': False,\n",
       "      'label': 'FID',\n",
       "      'stringFieldOption': 'textbox',\n",
       "      'tooltip': '',\n",
       "      'visible': False},\n",
       "     {'fieldName': 'ROUTE',\n",
       "      'isEditable': True,\n",
       "      'label': 'ROUTE',\n",
       "      'stringFieldOption': 'textbox',\n",
       "      'tooltip': '',\n",
       "      'visible': True},\n",
       "     {'fieldName': 'UNIQUE_ID',\n",
       "      'format': {'digitSeparator': True, 'places': 0},\n",
       "      'isEditable': True,\n",
       "      'label': 'UNIQUE_ID',\n",
       "      'stringFieldOption': 'textbox',\n",
       "      'tooltip': '',\n",
       "      'visible': True},\n",
       "     {'fieldName': 'XCO',\n",
       "      'format': {'digitSeparator': True, 'places': 2},\n",
       "      'isEditable': True,\n",
       "      'label': 'XCO',\n",
       "      'stringFieldOption': 'textbox',\n",
       "      'tooltip': '',\n",
       "      'visible': True},\n",
       "     {'fieldName': 'YCO',\n",
       "      'format': {'digitSeparator': True, 'places': 2},\n",
       "      'isEditable': True,\n",
       "      'label': 'YCO',\n",
       "      'stringFieldOption': 'textbox',\n",
       "      'tooltip': '',\n",
       "      'visible': True},\n",
       "     {'fieldName': 'ZCO',\n",
       "      'format': {'digitSeparator': True, 'places': 2},\n",
       "      'isEditable': True,\n",
       "      'label': 'ZCO',\n",
       "      'stringFieldOption': 'textbox',\n",
       "      'tooltip': '',\n",
       "      'visible': True},\n",
       "     {'fieldName': 'SURVEY',\n",
       "      'isEditable': True,\n",
       "      'label': 'SURVEY',\n",
       "      'stringFieldOption': 'textbox',\n",
       "      'tooltip': '',\n",
       "      'visible': True},\n",
       "     {'fieldName': 'FACILITYID',\n",
       "      'isEditable': True,\n",
       "      'label': 'FACILITYID',\n",
       "      'stringFieldOption': 'textbox',\n",
       "      'tooltip': '',\n",
       "      'visible': True},\n",
       "     {'fieldName': 'WARRANTYDA',\n",
       "      'format': {'dateFormat': 'shortDateShortTime'},\n",
       "      'isEditable': True,\n",
       "      'label': 'WARRANTYDA',\n",
       "      'stringFieldOption': 'textbox',\n",
       "      'tooltip': '',\n",
       "      'visible': True},\n",
       "     {'fieldName': 'SPECIES',\n",
       "      'isEditable': True,\n",
       "      'label': 'SPECIES',\n",
       "      'stringFieldOption': 'textbox',\n",
       "      'tooltip': '',\n",
       "      'visible': True},\n",
       "     {'fieldName': 'COND',\n",
       "      'isEditable': True,\n",
       "      'label': 'COND',\n",
       "      'stringFieldOption': 'textbox',\n",
       "      'tooltip': '',\n",
       "      'visible': True},\n",
       "     {'fieldName': 'DBH',\n",
       "      'format': {'digitSeparator': True, 'places': 2},\n",
       "      'isEditable': True,\n",
       "      'label': 'DBH',\n",
       "      'stringFieldOption': 'textbox',\n",
       "      'tooltip': '',\n",
       "      'visible': True},\n",
       "     {'fieldName': 'GRATE',\n",
       "      'isEditable': True,\n",
       "      'label': 'GRATE',\n",
       "      'stringFieldOption': 'textbox',\n",
       "      'tooltip': '',\n",
       "      'visible': True},\n",
       "     {'fieldName': 'GENUS',\n",
       "      'isEditable': True,\n",
       "      'label': 'GENUS',\n",
       "      'stringFieldOption': 'textbox',\n",
       "      'tooltip': '',\n",
       "      'visible': True},\n",
       "     {'fieldName': 'CULTIVAR',\n",
       "      'isEditable': True,\n",
       "      'label': 'CULTIVAR',\n",
       "      'stringFieldOption': 'textbox',\n",
       "      'tooltip': '',\n",
       "      'visible': True},\n",
       "     {'fieldName': 'ITEM_ID',\n",
       "      'isEditable': True,\n",
       "      'label': 'ITEM_ID',\n",
       "      'stringFieldOption': 'textbox',\n",
       "      'tooltip': '',\n",
       "      'visible': True},\n",
       "     {'fieldName': 'SPECIES_CN',\n",
       "      'isEditable': True,\n",
       "      'label': 'SPECIES_CN',\n",
       "      'stringFieldOption': 'textbox',\n",
       "      'tooltip': '',\n",
       "      'visible': True},\n",
       "     {'fieldName': 'INST_DATE',\n",
       "      'isEditable': True,\n",
       "      'label': 'INST_DATE',\n",
       "      'stringFieldOption': 'textbox',\n",
       "      'tooltip': '',\n",
       "      'visible': True},\n",
       "     {'fieldName': 'STEMCOUNT',\n",
       "      'format': {'digitSeparator': True, 'places': 0},\n",
       "      'isEditable': True,\n",
       "      'label': 'STEMCOUNT',\n",
       "      'stringFieldOption': 'textbox',\n",
       "      'tooltip': '',\n",
       "      'visible': True},\n",
       "     {'fieldName': 'Worst_Est_',\n",
       "      'format': {'digitSeparator': True, 'places': 2},\n",
       "      'isEditable': True,\n",
       "      'label': 'Worst_Est_',\n",
       "      'stringFieldOption': 'textbox',\n",
       "      'tooltip': '',\n",
       "      'visible': True},\n",
       "     {'fieldName': 'Aver_Est_A',\n",
       "      'format': {'digitSeparator': True, 'places': 2},\n",
       "      'isEditable': True,\n",
       "      'label': 'Aver_Est_A',\n",
       "      'stringFieldOption': 'textbox',\n",
       "      'tooltip': '',\n",
       "      'visible': True},\n",
       "     {'fieldName': 'COMBINED',\n",
       "      'isEditable': True,\n",
       "      'label': 'COMBINED',\n",
       "      'stringFieldOption': 'textbox',\n",
       "      'tooltip': '',\n",
       "      'visible': True},\n",
       "     {'fieldName': 'INV_DATE',\n",
       "      'format': {'dateFormat': 'shortDateShortTime'},\n",
       "      'isEditable': True,\n",
       "      'label': 'INV_DATE',\n",
       "      'stringFieldOption': 'textbox',\n",
       "      'tooltip': '',\n",
       "      'visible': True},\n",
       "     {'fieldName': 'INV_TIME',\n",
       "      'isEditable': True,\n",
       "      'label': 'INV_TIME',\n",
       "      'stringFieldOption': 'textbox',\n",
       "      'tooltip': '',\n",
       "      'visible': True},\n",
       "     {'fieldName': 'EDITTIME',\n",
       "      'format': {'dateFormat': 'shortDateShortTime'},\n",
       "      'isEditable': True,\n",
       "      'label': 'EDITTIME',\n",
       "      'stringFieldOption': 'textbox',\n",
       "      'tooltip': '',\n",
       "      'visible': True},\n",
       "     {'fieldName': 'SOURCE',\n",
       "      'isEditable': True,\n",
       "      'label': 'SOURCE',\n",
       "      'stringFieldOption': 'textbox',\n",
       "      'tooltip': '',\n",
       "      'visible': True},\n",
       "     {'fieldName': 'STATUS',\n",
       "      'isEditable': True,\n",
       "      'label': 'STATUS',\n",
       "      'stringFieldOption': 'textbox',\n",
       "      'tooltip': '',\n",
       "      'visible': True},\n",
       "     {'fieldName': 'F2013__Col',\n",
       "      'format': {'digitSeparator': True, 'places': 0},\n",
       "      'isEditable': True,\n",
       "      'label': 'F2013__Col',\n",
       "      'stringFieldOption': 'textbox',\n",
       "      'tooltip': '',\n",
       "      'visible': True},\n",
       "     {'fieldName': 'ID_STRING',\n",
       "      'isEditable': True,\n",
       "      'label': 'ID_STRING',\n",
       "      'stringFieldOption': 'textbox',\n",
       "      'tooltip': '',\n",
       "      'visible': True}],\n",
       "    'mediaInfos': [],\n",
       "    'showAttachments': True,\n",
       "    'title': 'Tree_subset(TEST)'}}]}"
      ]
     },
     "execution_count": 8,
     "metadata": {},
     "output_type": "execute_result"
    }
   ],
   "source": [
    "# RETURNS JSON FORMAT METADATA - NO SPATIAL DATA INCLUDED, DO NOT USE TO BACKUP\n",
    "data = get_item.get_data()\n",
    "data"
   ]
  },
  {
   "cell_type": "code",
   "execution_count": 9,
   "metadata": {},
   "outputs": [
    {
     "name": "stdout",
     "output_type": "stream",
     "text": [
      "JSON Backup created in location of this notebook\n"
     ]
    }
   ],
   "source": [
    "# WRITE METADATA TO JSON\n",
    "import json\n",
    "with open('data.json', 'w') as file:\n",
    "  json.dump(data, file, ensure_ascii=False)\n",
    "print (\"JSON Backup created in location of this notebook\") \n",
    "# Does not contain spatial data > find way to export geojson"
   ]
  },
  {
   "cell_type": "code",
   "execution_count": 17,
   "metadata": {},
   "outputs": [
    {
     "name": "stdout",
     "output_type": "stream",
     "text": [
      "Item saved in location of this notebook\n"
     ]
    }
   ],
   "source": [
    "# DOWNLOADS ITEM TO PATH (DOES NOT CHANGE FORMAT)\n",
    "get_item.download(save_path='C:\\\\Users\\\\Richard\\\\Desktop\\\\DATA')\n",
    "print (\"Item saved in specified location\")"
   ]
  },
  {
   "cell_type": "code",
   "execution_count": 20,
   "metadata": {
    "scrolled": true
   },
   "outputs": [
    {
     "data": {
      "text/html": [
       "<div class=\"item_container\" style=\"height: auto; overflow: hidden; border: 1px solid #cfcfcf; border-radius: 2px; background: #f6fafa; line-height: 1.21429em; padding: 10px;\">\n",
       "                    <div class=\"item_left\" style=\"width: 210px; float: left;\">\n",
       "                       <a href='https://ral.maps.arcgis.com/home/item.html?id=2fadeab367f440adb440caf2d3e9bbec' target='_blank'>\n",
       "                        <img src='http://static.arcgis.com/images/desktopapp.png' class=\"itemThumbnail\">\n",
       "                       </a>\n",
       "                    </div>\n",
       "\n",
       "                    <div class=\"item_right\"     style=\"float: none; width: auto; overflow: hidden;\">\n",
       "                        <a href='https://ral.maps.arcgis.com/home/item.html?id=2fadeab367f440adb440caf2d3e9bbec' target='_blank'><b>Tree_subset(TEST)</b>\n",
       "                        </a>\n",
       "                        <br/><img src='https://ral.maps.arcgis.com/home/js/jsapi/esri/css/images/item_type_icons/layers16.png' style=\"vertical-align:middle;\">GeoJson by richard.merino@raleighnc.gov_ral\n",
       "                        <br/>Last Modified: March 27, 2018\n",
       "                        <br/>0 comments, 0 views\n",
       "                    </div>\n",
       "                </div>\n",
       "                "
      ],
      "text/plain": [
       "<Item title:\"Tree_subset(TEST)\" type:GeoJson owner:richard.merino@raleighnc.gov_ral>"
      ]
     },
     "execution_count": 20,
     "metadata": {},
     "output_type": "execute_result"
    }
   ],
   "source": [
    "#EXPORTS SPECIFIED ITEM TO SPECIFIED FORMAT - WILL SAVE IN YOUR AGOL CONTENTS LOCATION\n",
    "get_item.export('Tree_subset(TEST)', 'GeoJson', parameters=None, wait=True)"
   ]
  },
  {
   "cell_type": "code",
   "execution_count": 23,
   "metadata": {},
   "outputs": [
    {
     "data": {
      "text/plain": [
       "[<Item title:\"Tree_subset(TEST)\" type:GeoJson owner:richard.merino@raleighnc.gov_ral>]"
      ]
     },
     "execution_count": 23,
     "metadata": {},
     "output_type": "execute_result"
    }
   ],
   "source": [
    "search_result2 = gis.content.search(query=\"owner:richard.merino@raleighnc.gov_ral\", item_type=\"GeoJSON\")\n",
    "search_result2"
   ]
  },
  {
   "cell_type": "raw",
   "metadata": {
    "collapsed": true
   },
   "source": [
    "# INTERATION OVER DICTIONARIES - .item creates dictionary as tuple to be unpacked\n",
    "for key,value in dictionary.items():\n",
    "    print(key, 'corresponds to', value)\n",
    " \n",
    "    \n"
   ]
  },
  {
   "cell_type": "code",
   "execution_count": null,
   "metadata": {},
   "outputs": [],
   "source": []
  }
 ],
 "metadata": {
  "kernelspec": {
   "display_name": "Python 3",
   "language": "python",
   "name": "python3"
  },
  "language_info": {
   "codemirror_mode": {
    "name": "ipython",
    "version": 3
   },
   "file_extension": ".py",
   "mimetype": "text/x-python",
   "name": "python",
   "nbconvert_exporter": "python",
   "pygments_lexer": "ipython3",
   "version": "3.6.4"
  }
 },
 "nbformat": 4,
 "nbformat_minor": 2
}
